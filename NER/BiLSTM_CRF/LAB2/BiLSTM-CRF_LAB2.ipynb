{
 "cells": [
  {
   "cell_type": "code",
   "execution_count": 23,
   "metadata": {
    "scrolled": true
   },
   "outputs": [
    {
     "name": "stdout",
     "output_type": "stream",
     "text": [
      "2.4.1\n",
      "0.16.1\n"
     ]
    }
   ],
   "source": [
    "import tensorflow as tf\n",
    "import tensorflow_addons as tfa\n",
    "print(tf.__version__)\n",
    "print(tfa.__version__)\n",
    "\n",
    "from tensorflow import keras\n",
    "from tensorflow.keras import layers, models\n",
    "from tensorflow.keras import backend as K\n",
    "\n",
    "from tensorflow.keras.preprocessing import sequence\n",
    "import numpy as np\n",
    "\n",
    "from sklearn.model_selection import train_test_split\n",
    "import matplotlib.pyplot as plt\n",
    "import gensim\n",
    "from gensim.models.keyedvectors import KeyedVectors\n",
    "\n",
    "plt.rcParams['font.sans-serif']=['simsun'] #用来正常显示中文标签\n",
    "plt.rcParams['axes.unicode_minus']=False #用来正常显示负号"
   ]
  },
  {
   "cell_type": "markdown",
   "metadata": {},
   "source": [
    "# w2v"
   ]
  },
  {
   "cell_type": "code",
   "execution_count": 2,
   "metadata": {
    "scrolled": true
   },
   "outputs": [],
   "source": [
    "w2v_path = \"../../../TCM embedding/result/TCM_w2v.txt\""
   ]
  },
  {
   "cell_type": "code",
   "execution_count": 3,
   "metadata": {},
   "outputs": [],
   "source": [
    "initial_vocab=[]\n",
    "vocab_emb = {}\n",
    "cnt = 0\n",
    "for line in open(w2v_path,encoding='UTF-8'):\n",
    "    if cnt != 0:\n",
    "        char_ls = line.split()\n",
    "        \n",
    "        initial_vocab.append(char_ls[0])\n",
    "        vocab_emb[char_ls[0]] = char_ls[1:]\n",
    "    else:\n",
    "        cnt += 1"
   ]
  },
  {
   "cell_type": "code",
   "execution_count": 4,
   "metadata": {},
   "outputs": [],
   "source": [
    "#读取所有数据生成字典\n",
    "def build_data(train_path,initial_vocab):\n",
    "    datas = []#【【句子】，【对应标签】】\n",
    "    #先加入特殊词\n",
    "    vocabs = {'UNK'}\n",
    "    #vocabs.add('PAD')\n",
    "    \n",
    "    data=[]\n",
    "    cate=[]\n",
    "    temp_data = []\n",
    "    temp_cate = []\n",
    "    for line in open(train_path,encoding='UTF-8'):\n",
    "        if line == '\\n' or line.split()[0] == \"。\":\n",
    "            if len(temp_data)!= 0:\n",
    "                data.append(temp_data)\n",
    "                cate.append(temp_cate)\n",
    "                temp_data = []\n",
    "                temp_cate = []\n",
    "        else:\n",
    "            line_ls = line.split()\n",
    "            char = line_ls[0].strip()\n",
    "            label = line_ls[1].strip()\n",
    "            temp_data.append(char)\n",
    "            temp_cate.append(label)\n",
    "            \n",
    "    for item in range(0,len(data)):\n",
    "        datas.append([data[item],cate[item]])\n",
    "        for i in data[item]:#数据中的词加入词库\n",
    "            vocabs.add(i)\n",
    "    for i in initial_vocab:#w2v中的词加入词库\n",
    "        vocabs.add(i)\n",
    "    \n",
    "    embeddings_matrix = np.zeros((len(vocabs), 200))# 初始化矩阵\n",
    "    \n",
    "    #索引和BIO标签对应\n",
    "    label=set()\n",
    "    for item in cate:\n",
    "        for i in item:\n",
    "            label.add(i)\n",
    "    idx2label = {idx: label for idx, label in enumerate(list(label))}\n",
    "    label2idx = {label: idx for idx,label  in idx2label.items()}\n",
    "    \n",
    "    #字符和索引编号对应\n",
    "    idx2vocab = {idx: char for idx, char in enumerate(list(vocabs))}\n",
    "    vocab2idx = {char: idx for idx, char in idx2vocab.items()}\n",
    "    \n",
    "    # 权重矩阵\n",
    "    for i in idx2vocab:\n",
    "        if idx2vocab[i] in initial_vocab:\n",
    "            embeddings_matrix[i] = vocab_emb[idx2vocab[i]]\n",
    "        \n",
    "    #self.write_file(list(vocabs), self.vocab_path)\n",
    "    return datas,label,idx2vocab,vocab2idx,idx2label,label2idx,embeddings_matrix"
   ]
  },
  {
   "cell_type": "code",
   "execution_count": 5,
   "metadata": {
    "scrolled": false
   },
   "outputs": [],
   "source": [
    "datas,label,idx2vocab,vocab2idx,idx2label,label2idx,embeddings_matrix = build_data('../../data/LAB2/corpus.txt',initial_vocab)"
   ]
  },
  {
   "cell_type": "code",
   "execution_count": 6,
   "metadata": {},
   "outputs": [],
   "source": [
    "#读取所有数据生成字典\n",
    "def load_data(train_path):\n",
    "    datas = []#【【句子】，【对应标签】】\n",
    "\n",
    "    \n",
    "    data=[]\n",
    "    cate=[]\n",
    "    temp_data = []\n",
    "    temp_cate = []\n",
    "    for line in open(train_path,encoding='UTF-8'):\n",
    "        if line == '\\n' or line.split()[0] == \"。\":\n",
    "            if len(temp_data)!= 0:\n",
    "                data.append(temp_data)\n",
    "                cate.append(temp_cate)\n",
    "                temp_data = []\n",
    "                temp_cate = []\n",
    "        else:\n",
    "            line_ls = line.split()\n",
    "            char = line_ls[0].strip()\n",
    "            label = line_ls[1].strip()\n",
    "            temp_data.append(char)\n",
    "            temp_cate.append(label)\n",
    "            \n",
    "    for item in range(0,len(data)):\n",
    "        datas.append([data[item],cate[item]])\n",
    "    \n",
    "    return datas"
   ]
  },
  {
   "cell_type": "code",
   "execution_count": 7,
   "metadata": {},
   "outputs": [],
   "source": [
    "train = load_data('../../data/LAB2/train.txt')\n",
    "test = load_data('../../data/LAB2/test.txt')\n",
    "dev = load_data('../../data/LAB2/dev.txt')"
   ]
  },
  {
   "cell_type": "code",
   "execution_count": 8,
   "metadata": {},
   "outputs": [],
   "source": [
    "train.extend(dev)"
   ]
  },
  {
   "cell_type": "code",
   "execution_count": 9,
   "metadata": {},
   "outputs": [],
   "source": [
    "#按照索引建立训练数据\n",
    "def read_corpus(datas,vocab2idx,label2idx):\n",
    "    corpus, labels = [],[]\n",
    "    for item in datas:\n",
    "        sent_=item[0]\n",
    "        tag_=item[1]\n",
    "        sent_ids = [vocab2idx[char] if char in vocab2idx else vocab2idx['<UNK>'] for char in sent_]\n",
    "        tag_ids = [label2idx[label] if label in label2idx else 0 for label in tag_]\n",
    "        corpus.append(sent_ids)\n",
    "        labels.append(tag_ids)\n",
    "    return corpus,labels"
   ]
  },
  {
   "cell_type": "code",
   "execution_count": 10,
   "metadata": {},
   "outputs": [],
   "source": [
    "X_train,y_train = read_corpus(train,vocab2idx,label2idx)\n",
    "X_test,y_test = read_corpus(test,vocab2idx,label2idx)"
   ]
  },
  {
   "cell_type": "code",
   "execution_count": 11,
   "metadata": {},
   "outputs": [
    {
     "data": {
      "text/plain": [
       "579"
      ]
     },
     "execution_count": 11,
     "metadata": {},
     "output_type": "execute_result"
    }
   ],
   "source": [
    "len(X_train)"
   ]
  },
  {
   "cell_type": "code",
   "execution_count": 12,
   "metadata": {},
   "outputs": [
    {
     "data": {
      "text/plain": [
       "120"
      ]
     },
     "execution_count": 12,
     "metadata": {},
     "output_type": "execute_result"
    }
   ],
   "source": [
    "len(X_test)"
   ]
  },
  {
   "cell_type": "markdown",
   "metadata": {},
   "source": [
    "# 模型"
   ]
  },
  {
   "cell_type": "code",
   "execution_count": 13,
   "metadata": {},
   "outputs": [],
   "source": [
    "length = [len(i) for i in X_train]"
   ]
  },
  {
   "cell_type": "code",
   "execution_count": 14,
   "metadata": {},
   "outputs": [
    {
     "data": {
      "text/plain": [
       "(array([150., 199., 113.,  63.,  29.,  12.,   3.,   3.,   5.,   2.]),\n",
       " array([  1.,  11.,  21.,  31.,  41.,  51.,  61.,  71.,  81.,  91., 101.]),\n",
       " <BarContainer object of 10 artists>)"
      ]
     },
     "execution_count": 14,
     "metadata": {},
     "output_type": "execute_result"
    },
    {
     "data": {
      "image/png": "[encoded data removed]",
      "text/plain": [
       "<Figure size 432x288 with 1 Axes>"
      ]
     },
     "metadata": {
      "needs_background": "light"
     },
     "output_type": "display_data"
    }
   ],
   "source": [
    "import matplotlib.pyplot as plt\n",
    "\n",
    "plt.hist(length)"
   ]
  },
  {
   "cell_type": "code",
   "execution_count": 15,
   "metadata": {},
   "outputs": [],
   "source": [
    "max_len = 100"
   ]
  },
  {
   "cell_type": "code",
   "execution_count": 16,
   "metadata": {},
   "outputs": [],
   "source": [
    "class CRF(layers.Layer):\n",
    "    def __init__(self, label_size):\n",
    "        super(CRF, self).__init__()\n",
    "        #随机生成0，1范围内shape × shape的矩阵\n",
    "        self.trans_params = tf.Variable(\n",
    "            tf.random.uniform(shape=(label_size, label_size)), name=\"transition\")\n",
    "    #实现 Graph Execution\n",
    "    @tf.function\n",
    "    def call(self, inputs, labels, seq_lens):#使用crf来计算损失\n",
    "        #inputs: 一个形状为[batch_size, max_seq_len, num_tags] 的tensor,一般使用BILSTM处理之后输出转换为他要求的形状作为CRF层的输入\n",
    "        #labels：形状为[batch_size, max_seq_len]的矩阵，真实标签\n",
    "        #seq_lens：一个形状为 [batch_size] 的向量,表示每个序列的长度\n",
    "        #transition_params：转移矩阵\n",
    "        log_likelihood, self.trans_params = tfa.text.crf_log_likelihood(\n",
    "                                                inputs, labels, seq_lens,\n",
    "                                                transition_params=self.trans_params)\n",
    "        #损失\n",
    "        loss = tf.reduce_sum(-log_likelihood)\n",
    "        return loss"
   ]
  },
  {
   "cell_type": "code",
   "execution_count": 17,
   "metadata": {},
   "outputs": [
    {
     "name": "stdout",
     "output_type": "stream",
     "text": [
      "Model: \"model\"\n",
      "__________________________________________________________________________________________________\n",
      "Layer (type)                    Output Shape         Param #     Connected to                     \n",
      "==================================================================================================\n",
      "input_ids (InputLayer)          [(None, 100)]        0                                            \n",
      "__________________________________________________________________________________________________\n",
      "embedding (Embedding)           (None, 100, 200)     12807600    input_ids[0][0]                  \n",
      "__________________________________________________________________________________________________\n",
      "bidirectional (Bidirectional)   (None, 100, 400)     641600      embedding[0][0]                  \n",
      "__________________________________________________________________________________________________\n",
      "dense (Dense)                   (None, 100, 16)      6416        bidirectional[0][0]              \n",
      "__________________________________________________________________________________________________\n",
      "target_ids (InputLayer)         [(None, 100)]        0                                            \n",
      "__________________________________________________________________________________________________\n",
      "input_lens (InputLayer)         [(None,)]            0                                            \n",
      "__________________________________________________________________________________________________\n",
      "crf (CRF)                       ()                   256         dense[0][0]                      \n",
      "                                                                 target_ids[0][0]                 \n",
      "                                                                 input_lens[0][0]                 \n",
      "==================================================================================================\n",
      "Total params: 13,455,872\n",
      "Trainable params: 13,455,872\n",
      "Non-trainable params: 0\n",
      "__________________________________________________________________________________________________\n",
      "None\n"
     ]
    }
   ],
   "source": [
    "K.clear_session()\n",
    "\n",
    "EPOCHS = 16\n",
    "BATCH_SIZE = 64\n",
    "EMBED_DIM = 200#词向量的维度\n",
    "HIDDEN_SIZE = 200#隐层状态的维数\n",
    "MAX_LEN = 100\n",
    "VOCAB_SIZE = len(vocab2idx)\n",
    "CLASS_NUMS = len(label2idx)\n",
    "\n",
    "inputs = layers.Input(shape=(MAX_LEN,), name='input_ids', dtype='int32')\n",
    "targets = layers.Input(shape=(MAX_LEN,), name='target_ids', dtype='int32')\n",
    "seq_lens = layers.Input(shape=(), name='input_lens', dtype='int32')\n",
    "\n",
    "#嵌入层 词汇表的大小；词向量的维度\n",
    "x = layers.Embedding(input_dim=VOCAB_SIZE, output_dim=EMBED_DIM,weights = [embeddings_matrix])(inputs)\n",
    "x = layers.Bidirectional(layers.LSTM(HIDDEN_SIZE, return_sequences=True))(x)\n",
    "logits = layers.Dense(CLASS_NUMS)(x)#全连接层 CLASS_NUMS：输出的单元个数，output_shape = (batch_size ,units),输入的形状input_shape =(batch_size,input_dim)\n",
    "loss = CRF(label_size=CLASS_NUMS)(logits, targets, seq_lens)\n",
    "\n",
    "model = models.Model(inputs=[inputs, targets, seq_lens], outputs=loss)\n",
    "\n",
    "print(model.summary())"
   ]
  },
  {
   "cell_type": "code",
   "execution_count": 18,
   "metadata": {},
   "outputs": [
    {
     "name": "stdout",
     "output_type": "stream",
     "text": [
      "('Failed to import pydot. You must `pip install pydot` and install graphviz (https://graphviz.gitlab.io/download/), ', 'for `pydotprint` to work.')\n"
     ]
    }
   ],
   "source": [
    "from keras.utils import plot_model\n",
    "plot_model(model, to_file='model.png')"
   ]
  },
  {
   "cell_type": "code",
   "execution_count": 19,
   "metadata": {},
   "outputs": [],
   "source": [
    "class CustomLoss(keras.losses.Loss):\n",
    "    def call(self, y_true, y_pred):\n",
    "        loss, pred = y_pred\n",
    "        return loss\n",
    "\n",
    "# 自定义Loss\n",
    "#model.compile(loss=CustomLoss(), optimizer='adam')\n",
    "# 或者使用lambda表达式\n",
    "#配置训练方法时，告知训练时用的优化器、损失函数和准确率评测标准\n",
    "model.compile(loss = lambda y_true, y_pred: y_pred, optimizer='adam')"
   ]
  },
  {
   "cell_type": "code",
   "execution_count": 20,
   "metadata": {},
   "outputs": [
    {
     "name": "stdout",
     "output_type": "stream",
     "text": [
      "(579, 100) (579, 100)\n"
     ]
    }
   ],
   "source": [
    "#加载训练集 数据填充\n",
    "train_datas = sequence.pad_sequences(X_train, maxlen=MAX_LEN)\n",
    "train_labels = sequence.pad_sequences(y_train, maxlen=MAX_LEN)\n",
    "train_seq_lens = np.array([MAX_LEN] * len(train_labels))\n",
    "labels_ = np.ones(len(train_labels))\n",
    "# train_labels = keras.utils.to_categorical(train_labels, CLASS_NUMS)\n",
    "print(np.shape(train_datas), np.shape(train_labels))"
   ]
  },
  {
   "cell_type": "code",
   "execution_count": 21,
   "metadata": {
    "scrolled": false
   },
   "outputs": [
    {
     "name": "stdout",
     "output_type": "stream",
     "text": [
      "Epoch 1/16\n",
      "9/9 [==============================] - 23s 2s/step - loss: 10621.0049 - val_loss: 2587.2969\n",
      "Epoch 2/16\n",
      "9/9 [==============================] - 9s 985ms/step - loss: 3211.8288 - val_loss: 2036.2828\n",
      "Epoch 3/16\n",
      "9/9 [==============================] - 8s 904ms/step - loss: 2499.4411 - val_loss: 1674.0071\n",
      "Epoch 4/16\n",
      "9/9 [==============================] - 8s 920ms/step - loss: 2117.2673 - val_loss: 1483.7163\n",
      "Epoch 5/16\n",
      "9/9 [==============================] - 8s 901ms/step - loss: 1980.0940 - val_loss: 1332.5874\n",
      "Epoch 6/16\n",
      "9/9 [==============================] - 7s 796ms/step - loss: 1669.7992 - val_loss: 1220.0721\n",
      "Epoch 7/16\n",
      "9/9 [==============================] - 7s 819ms/step - loss: 1559.6764 - val_loss: 1144.5988\n",
      "Epoch 8/16\n",
      "9/9 [==============================] - 7s 810ms/step - loss: 1438.0641 - val_loss: 1077.2483\n",
      "Epoch 9/16\n",
      "9/9 [==============================] - 7s 760ms/step - loss: 1313.0195 - val_loss: 1007.4601\n",
      "Epoch 10/16\n",
      "9/9 [==============================] - 8s 860ms/step - loss: 1176.7576 - val_loss: 958.3746\n",
      "Epoch 11/16\n",
      "9/9 [==============================] - 7s 829ms/step - loss: 1072.5160 - val_loss: 896.4401\n",
      "Epoch 12/16\n",
      "9/9 [==============================] - 8s 836ms/step - loss: 981.4306 - val_loss: 855.7252\n",
      "Epoch 13/16\n",
      "9/9 [==============================] - 7s 771ms/step - loss: 929.9456 - val_loss: 798.7759\n",
      "Epoch 14/16\n",
      "9/9 [==============================] - 8s 849ms/step - loss: 882.4697 - val_loss: 779.0287\n",
      "Epoch 15/16\n",
      "9/9 [==============================] - 8s 901ms/step - loss: 804.2549 - val_loss: 736.1425\n",
      "Epoch 16/16\n",
      "9/9 [==============================] - 7s 783ms/step - loss: 698.9738 - val_loss: 718.5543\n"
     ]
    }
   ],
   "source": [
    "#可以设定fit函数内validation_split参数为切分验证集的比例\n",
    "history = model.fit(x=[train_datas, train_labels, train_seq_lens], y=labels_, \n",
    "        validation_split = 0.1, batch_size=BATCH_SIZE, epochs=EPOCHS)"
   ]
  },
  {
   "cell_type": "code",
   "execution_count": 24,
   "metadata": {},
   "outputs": [
    {
     "data": {
      "image/png": "[encoded data removed]",
      "text/plain": [
       "<Figure size 432x288 with 1 Axes>"
      ]
     },
     "metadata": {
      "needs_background": "light"
     },
     "output_type": "display_data"
    }
   ],
   "source": [
    "fig, ax = plt.subplots()#创建一个figure \n",
    "ax.plot(history.history['loss'], '-r',label='训练集 loss')\n",
    "ax.plot(history.history['val_loss'], '-b',label='验证集 loss')\n",
    "\n",
    "####打开网格\n",
    "ax.grid(True)\n",
    "\n",
    "####定义x, y轴的名称\n",
    "ax.set_xlabel('epoch',fontsize=15)\n",
    "ax.set_ylabel('loss',fontsize=15)\n",
    "\n",
    "####定义标题\n",
    "fig.suptitle('实验二：BiLSTM-CRF模型损失函数变化曲线',fontsize=15)\n",
    "\n",
    "####展示图例 legend loc=是用来定义图例的位置的，还有很多选择，大家可以自己尝试\n",
    "ax.legend(loc = 'upper right')\n",
    "\n",
    "plt.savefig(\"实验二：BiLSTM-CRF模型损失函数变化曲线.png\")"
   ]
  },
  {
   "cell_type": "code",
   "execution_count": 25,
   "metadata": {},
   "outputs": [
    {
     "data": {
      "text/plain": [
       "[7744.220703125,\n",
       " 3040.1123046875,\n",
       " 2478.486083984375,\n",
       " 2115.759521484375,\n",
       " 1871.599609375,\n",
       " 1666.96875,\n",
       " 1524.4407958984375,\n",
       " 1392.9923095703125,\n",
       " 1269.869384765625,\n",
       " 1176.9716796875,\n",
       " 1080.623291015625,\n",
       " 987.121337890625,\n",
       " 909.1254272460938,\n",
       " 833.5510864257812,\n",
       " 760.44580078125,\n",
       " 689.4114379882812]"
      ]
     },
     "execution_count": 25,
     "metadata": {},
     "output_type": "execute_result"
    }
   ],
   "source": [
    "history.history['loss']"
   ]
  },
  {
   "cell_type": "code",
   "execution_count": 26,
   "metadata": {},
   "outputs": [
    {
     "data": {
      "text/plain": [
       "[2587.296875,\n",
       " 2036.2828369140625,\n",
       " 1674.007080078125,\n",
       " 1483.71630859375,\n",
       " 1332.58740234375,\n",
       " 1220.0721435546875,\n",
       " 1144.5987548828125,\n",
       " 1077.248291015625,\n",
       " 1007.4600830078125,\n",
       " 958.3746337890625,\n",
       " 896.4401245117188,\n",
       " 855.7252197265625,\n",
       " 798.7759399414062,\n",
       " 779.0287475585938,\n",
       " 736.1424560546875,\n",
       " 718.5543212890625]"
      ]
     },
     "execution_count": 26,
     "metadata": {},
     "output_type": "execute_result"
    }
   ],
   "source": [
    "history.history['val_loss']"
   ]
  },
  {
   "cell_type": "code",
   "execution_count": 27,
   "metadata": {},
   "outputs": [
    {
     "name": "stderr",
     "output_type": "stream",
     "text": [
      "WARNING:absl:Found untraced functions such as lstm_cell_1_layer_call_and_return_conditional_losses, lstm_cell_1_layer_call_fn, lstm_cell_2_layer_call_and_return_conditional_losses, lstm_cell_2_layer_call_fn, lstm_cell_1_layer_call_fn while saving (showing 5 of 10). These functions will not be directly callable after loading.\n",
      "WARNING:absl:Found untraced functions such as lstm_cell_1_layer_call_and_return_conditional_losses, lstm_cell_1_layer_call_fn, lstm_cell_2_layer_call_and_return_conditional_losses, lstm_cell_2_layer_call_fn, lstm_cell_1_layer_call_fn while saving (showing 5 of 10). These functions will not be directly callable after loading.\n"
     ]
    },
    {
     "name": "stdout",
     "output_type": "stream",
     "text": [
      "INFO:tensorflow:Assets written to: output/BiLSTM_CRF_NER_MODEL\\assets\n"
     ]
    },
    {
     "name": "stderr",
     "output_type": "stream",
     "text": [
      "INFO:tensorflow:Assets written to: output/BiLSTM_CRF_NER_MODEL\\assets\n"
     ]
    }
   ],
   "source": [
    "# 保存\n",
    "model.save(\"output/BiLSTM_CRF_NER_MODEL\")"
   ]
  },
  {
   "cell_type": "code",
   "execution_count": 28,
   "metadata": {},
   "outputs": [],
   "source": [
    "model = models.load_model(\"output/BiLSTM_CRF_NER_MODEL\", compile=False)"
   ]
  },
  {
   "cell_type": "code",
   "execution_count": 29,
   "metadata": {},
   "outputs": [],
   "source": [
    "import json\n",
    "with open('output/idx2vocab.json',\"w\",encoding=\"utf-8\") as f:\n",
    "    json.dump(idx2vocab,f)\n",
    "    \n",
    "with open('output/vocab2idx.json',\"w\",encoding=\"utf-8\") as f:\n",
    "    json.dump(vocab2idx,f)\n",
    "\n",
    "with open('output/idx2label.json',\"w\",encoding=\"utf-8\") as f:\n",
    "    json.dump(idx2label,f)\n",
    "\n",
    "with open('output/label2idx.json',\"w\",encoding=\"utf-8\") as f:\n",
    "    json.dump(label2idx,f)"
   ]
  },
  {
   "cell_type": "code",
   "execution_count": 30,
   "metadata": {
    "scrolled": true
   },
   "outputs": [],
   "source": [
    "# model = models.load_model(\"output/bilstm_crf_ner\", compile=False)\n",
    "# 如果需要继续训练，需要下面的重新compile\n",
    "# model.compile(loss=lambda y_true, y_pred: y_pred, optimizer='adam')"
   ]
  },
  {
   "cell_type": "code",
   "execution_count": 31,
   "metadata": {},
   "outputs": [],
   "source": [
    "#提取转移矩阵参数\n",
    "trans_params = model.get_layer('crf').get_weights()[0]\n",
    "# 获得BiLSTM的输出logits\n",
    "sub_model = models.Model(inputs=model.get_layer('input_ids').input,\n",
    "                        outputs=model.get_layer('dense').output)\n",
    "\n",
    "def predict(model, inputs, input_lens):\n",
    "    logits = sub_model.predict(inputs)\n",
    "    # 获取CRF层的转移矩阵\n",
    "    # crf_decode：viterbi解码获得结果\n",
    "    pred_seq, viterbi_score = tfa.text.crf_decode(logits, trans_params, input_lens)\n",
    "    return pred_seq"
   ]
  },
  {
   "cell_type": "markdown",
   "metadata": {},
   "source": [
    "# 预测"
   ]
  },
  {
   "cell_type": "code",
   "execution_count": 44,
   "metadata": {},
   "outputs": [],
   "source": [
    "with open('output/idx2vocab.json',encoding=\"utf-8\") as file_obj:\n",
    "    idx2vocab=json.load(file_obj)\n",
    "    \n",
    "with open('output/vocab2idx.json',encoding=\"utf-8\") as file_obj:\n",
    "    vocab2idx=json.load(file_obj)\n",
    "    \n",
    "with open('output/idx2label.json',encoding=\"utf-8\") as file_obj:\n",
    "    idx2label=json.load(file_obj)\n",
    "    \n",
    "with open('output/label2idx.json',encoding=\"utf-8\") as file_obj:\n",
    "    label2idx=json.load(file_obj)"
   ]
  },
  {
   "cell_type": "code",
   "execution_count": 45,
   "metadata": {},
   "outputs": [],
   "source": [
    "temp_idx2vocab = {}\n",
    "for k,v in idx2vocab.items():\n",
    "    temp_idx2vocab[int(k)] = v\n",
    "idx2vocab = temp_idx2vocab.copy()\n",
    "\n",
    "temp_idx2label = {}\n",
    "for k,v in idx2label.items():\n",
    "    temp_idx2label[int(k)] = v\n",
    "idx2label = temp_idx2label.copy()\n"
   ]
  },
  {
   "cell_type": "code",
   "execution_count": 46,
   "metadata": {},
   "outputs": [],
   "source": [
    "def pre(X_test,idx2label,model,idx2vocab,vocab2idx):\n",
    "    result=[]\n",
    "    maxlen = MAX_LEN\n",
    "    for item in X_test:\n",
    "        sentence=''\n",
    "        for i in item:\n",
    "            sentence+=idx2vocab[i]\n",
    "        print(sentence)\n",
    "        sent_chars = list(sentence)\n",
    "        sent2id = [vocab2idx[word] if word in vocab2idx else vocab2idx['UNK'] for word in sent_chars]\n",
    "        sent2id_new = np.array([[0] * (maxlen-len(sent2id)) + sent2id[:maxlen]])\n",
    "        test_lens = np.array([MAX_LEN])\n",
    "        pred_seq = predict(model, sent2id_new, test_lens)\n",
    "        y_label = pred_seq.numpy().reshape(1, -1)[0]\n",
    "        y_ner = [idx2label[i] for i in y_label][-len(sent_chars):]\n",
    "        print(y_ner)"
   ]
  },
  {
   "cell_type": "code",
   "execution_count": 47,
   "metadata": {},
   "outputs": [],
   "source": [
    "#测试集效果检测\n",
    "test_text = []\n",
    "for item in X_test:\n",
    "    sen=''\n",
    "    for i in item:\n",
    "        sen+=idx2vocab[i]\n",
    "    test_text.append(sen)\n",
    "test_label=[]\n",
    "for item in y_test:\n",
    "    test_label.append([idx2label[i] for i in item])"
   ]
  },
  {
   "cell_type": "code",
   "execution_count": 48,
   "metadata": {},
   "outputs": [],
   "source": [
    "filename='test_text.json'\n",
    "with open(filename,'w',encoding='gbk') as file_obj:\n",
    "    json.dump(test_text,file_obj,ensure_ascii=False,indent = 4)\n",
    "    \n",
    "filename='test_label.json'\n",
    "with open(filename,'w',encoding='gbk') as file_obj:\n",
    "    json.dump(test_label,file_obj,ensure_ascii=False,indent = 4)"
   ]
  },
  {
   "cell_type": "code",
   "execution_count": 49,
   "metadata": {},
   "outputs": [],
   "source": [
    "def pre_data(sentence,vocab2idx,idx2label):\n",
    "    maxlen=MAX_LEN\n",
    "    sent_chars = list(sentence)\n",
    "    sent2id = [vocab2idx[word] if word in vocab2idx else vocab2idx['UNK'] for word in sent_chars]\n",
    "    sent2id_new = np.array([[0] * (maxlen-len(sent2id)) + sent2id[:maxlen]])\n",
    "    test_lens = np.array([MAX_LEN])\n",
    "\n",
    "    pred_seq = predict(model, sent2id_new, test_lens)\n",
    "    y_label = pred_seq.numpy().reshape(1, -1)[0]\n",
    "    y_ner = [idx2label[i] for i in y_label][-len(sent_chars):]\n",
    "    return y_ner"
   ]
  },
  {
   "cell_type": "code",
   "execution_count": 50,
   "metadata": {
    "scrolled": false
   },
   "outputs": [],
   "source": [
    "pre_result=[]\n",
    "count=0\n",
    "for sen in test_text:\n",
    "    #print(sen)\n",
    "    result=pre_data(sen,vocab2idx,idx2label)\n",
    "    #print(result)\n",
    "    pre_result.append(result)\n",
    "    count+=1\n",
    "    # print(count)"
   ]
  },
  {
   "cell_type": "code",
   "execution_count": 51,
   "metadata": {},
   "outputs": [],
   "source": [
    "filename='pre_result.json'\n",
    "with open(filename,'w',encoding='gbk') as file_obj:\n",
    "    json.dump(pre_result,file_obj,ensure_ascii=False,indent = 4)"
   ]
  },
  {
   "cell_type": "code",
   "execution_count": 52,
   "metadata": {
    "scrolled": false
   },
   "outputs": [],
   "source": [
    "pre_ = []\n",
    "for s in pre_result:\n",
    "    for c in s:\n",
    "        pre_.append(c)\n",
    "        \n",
    "test_ = []\n",
    "for s in y_test:\n",
    "    for c in s:\n",
    "        test_.append(idx2label[c])"
   ]
  },
  {
   "cell_type": "code",
   "execution_count": 53,
   "metadata": {
    "scrolled": false
   },
   "outputs": [
    {
     "data": {
      "text/plain": [
       "3060"
      ]
     },
     "execution_count": 53,
     "metadata": {},
     "output_type": "execute_result"
    }
   ],
   "source": [
    "len(pre_)"
   ]
  },
  {
   "cell_type": "code",
   "execution_count": 54,
   "metadata": {
    "scrolled": true
   },
   "outputs": [
    {
     "data": {
      "text/plain": [
       "3060"
      ]
     },
     "execution_count": 54,
     "metadata": {},
     "output_type": "execute_result"
    }
   ],
   "source": [
    "len(test_)"
   ]
  },
  {
   "cell_type": "code",
   "execution_count": 56,
   "metadata": {
    "scrolled": false
   },
   "outputs": [
    {
     "name": "stdout",
     "output_type": "stream",
     "text": [
      "              precision    recall  f1-score   support\n",
      "\n",
      "       B-DRU     0.8326    0.7863    0.8088       234\n",
      "      B-NAME     0.1000    0.2857    0.1481         7\n",
      "       B-QUA     0.9597    0.8720    0.9137       164\n",
      "       B-SYM     0.3364    0.5362    0.4134        69\n",
      "       B-USE     0.7513    0.8315    0.7893       178\n",
      "       E-DRU     0.7944    0.8333    0.8134       204\n",
      "      E-NAME     0.6500    0.8125    0.7222        16\n",
      "       E-QUA     0.8819    0.8247    0.8523       154\n",
      "       E-SYM     0.3028    0.5156    0.3815        64\n",
      "       E-USE     0.6338    0.7500    0.6870       120\n",
      "       I-DRU     0.4000    0.7368    0.5185        19\n",
      "      I-NAME     0.8824    0.4688    0.6122        96\n",
      "       I-QUA     0.0000    0.0000    0.0000         0\n",
      "       I-SYM     0.4571    0.4729    0.4649       203\n",
      "       I-USE     0.6698    0.8091    0.7329       351\n",
      "           O     0.8908    0.7460    0.8120      1181\n",
      "\n",
      "    accuracy                         0.7408      3060\n",
      "   macro avg     0.5964    0.6426    0.6044      3060\n",
      "weighted avg     0.7797    0.7408    0.7529      3060\n",
      "\n"
     ]
    },
    {
     "name": "stderr",
     "output_type": "stream",
     "text": [
      "E:\\download\\anaconda\\download\\lib\\site-packages\\sklearn\\metrics\\_classification.py:1221: UndefinedMetricWarning: Recall and F-score are ill-defined and being set to 0.0 in labels with no true samples. Use `zero_division` parameter to control this behavior.\n",
      "  _warn_prf(average, modifier, msg_start, len(result))\n"
     ]
    }
   ],
   "source": [
    "from sklearn.metrics import classification_report\n",
    "print(classification_report(pre_,test_,digits=4))"
   ]
  },
  {
   "cell_type": "code",
   "execution_count": 60,
   "metadata": {},
   "outputs": [
    {
     "data": {
      "image/png": "[encoded data removed]",
      "text/plain": [
       "<Figure size 432x288 with 1 Axes>"
      ]
     },
     "metadata": {
      "needs_background": "light"
     },
     "output_type": "display_data"
    }
   ],
   "source": [
    "fig, ax = plt.subplots()#创建一个figure \n",
    "ax.plot(history.history['loss'], '-r',marker = \"o\",label='训练集 loss')\n",
    "ax.plot(history.history['val_loss'], '-b',marker = \"*\",label='验证集 loss')\n",
    "\n",
    "####打开网格\n",
    "ax.grid(True)\n",
    "\n",
    "####定义x, y轴的名称\n",
    "ax.set_xlabel('epoch',fontsize=15)\n",
    "ax.set_ylabel('loss',fontsize=15)\n",
    "\n",
    "####定义标题\n",
    "fig.suptitle('实验二：BiLSTM-CRF模型损失函数变化曲线',fontsize=15)\n",
    "\n",
    "####展示图例 legend loc=是用来定义图例的位置的，还有很多选择，大家可以自己尝试\n",
    "ax.legend(loc = 'upper right')\n",
    "\n",
    "plt.savefig(\"实验二：BiLSTM-CRF模型损失函数变化曲线.png\")"
   ]
  },
  {
   "cell_type": "code",
   "execution_count": null,
   "metadata": {},
   "outputs": [],
   "source": []
  }
 ],
 "metadata": {
  "kernelspec": {
   "display_name": "Python 3",
   "language": "python",
   "name": "python3"
  },
  "language_info": {
   "codemirror_mode": {
    "name": "ipython",
    "version": 3
   },
   "file_extension": ".py",
   "mimetype": "text/x-python",
   "name": "python",
   "nbconvert_exporter": "python",
   "pygments_lexer": "ipython3",
   "version": "3.8.5"
  }
 },
 "nbformat": 4,
 "nbformat_minor": 2
}
