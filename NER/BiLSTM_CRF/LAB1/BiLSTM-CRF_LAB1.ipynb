{
 "cells": [
  {
   "cell_type": "code",
   "execution_count": 1,
   "metadata": {
    "scrolled": true
   },
   "outputs": [
    {
     "name": "stderr",
     "output_type": "stream",
     "text": [
      "E:\\download\\anaconda\\download\\lib\\site-packages\\tensorflow_addons\\utils\\ensure_tf_install.py:53: UserWarning: Tensorflow Addons supports using Python ops for all Tensorflow versions above or equal to 2.6.0 and strictly below 2.9.0 (nightly versions are not supported). \n",
      " The versions of TensorFlow you are currently using is 2.4.1 and is not supported. \n",
      "Some things might work, some things might not.\n",
      "If you were to encounter a bug, do not file an issue.\n",
      "If you want to make sure you're using a tested and supported configuration, either change the TensorFlow version or the TensorFlow Addons's version. \n",
      "You can find the compatibility matrix in TensorFlow Addon's readme:\n",
      "https://github.com/tensorflow/addons\n",
      "  warnings.warn(\n"
     ]
    },
    {
     "name": "stdout",
     "output_type": "stream",
     "text": [
      "2.4.1\n",
      "0.16.1\n"
     ]
    },
    {
     "name": "stderr",
     "output_type": "stream",
     "text": [
      "E:\\download\\anaconda\\download\\lib\\site-packages\\gensim\\similarities\\__init__.py:15: UserWarning: The gensim.similarities.levenshtein submodule is disabled, because the optional Levenshtein package <https://pypi.org/project/python-Levenshtein/> is unavailable. Install Levenhstein (e.g. `pip install python-Levenshtein`) to suppress this warning.\n",
      "  warnings.warn(msg)\n"
     ]
    }
   ],
   "source": [
    "import tensorflow as tf\n",
    "import tensorflow_addons as tfa\n",
    "print(tf.__version__)\n",
    "print(tfa.__version__)\n",
    "\n",
    "from tensorflow import keras\n",
    "from tensorflow.keras import layers, models\n",
    "from tensorflow.keras import backend as K\n",
    "\n",
    "from tensorflow.keras.preprocessing import sequence\n",
    "import numpy as np\n",
    "\n",
    "from sklearn.model_selection import train_test_split\n",
    "import matplotlib.pyplot as plt\n",
    "import gensim\n",
    "from gensim.models.keyedvectors import KeyedVectors\n",
    "\n",
    "plt.rcParams['font.sans-serif']=['simsun'] #用来正常显示中文标签\n",
    "plt.rcParams['axes.unicode_minus']=False #用来正常显示负号"
   ]
  },
  {
   "cell_type": "markdown",
   "metadata": {},
   "source": [
    "# w2v"
   ]
  },
  {
   "cell_type": "code",
   "execution_count": 2,
   "metadata": {
    "scrolled": true
   },
   "outputs": [],
   "source": [
    "w2v_path = \"../../../TCM embedding/result/TCM_w2v.txt\""
   ]
  },
  {
   "cell_type": "code",
   "execution_count": 3,
   "metadata": {},
   "outputs": [],
   "source": [
    "initial_vocab=[]\n",
    "vocab_emb = {}\n",
    "cnt = 0\n",
    "for line in open(w2v_path,encoding='UTF-8'):\n",
    "    if cnt != 0:\n",
    "        char_ls = line.split()\n",
    "        \n",
    "        initial_vocab.append(char_ls[0])\n",
    "        vocab_emb[char_ls[0]] = char_ls[1:]\n",
    "    else:\n",
    "        cnt += 1"
   ]
  },
  {
   "cell_type": "code",
   "execution_count": 4,
   "metadata": {
    "scrolled": false
   },
   "outputs": [
    {
     "data": {
      "text/plain": [
       "True"
      ]
     },
     "execution_count": 4,
     "metadata": {},
     "output_type": "execute_result"
    }
   ],
   "source": [
    "len(vocab_emb) == len(initial_vocab)"
   ]
  },
  {
   "cell_type": "code",
   "execution_count": 5,
   "metadata": {},
   "outputs": [],
   "source": [
    "#读取所有数据生成字典\n",
    "def build_data(train_path,initial_vocab):\n",
    "    datas = []#【【句子】，【对应标签】】\n",
    "    #先加入特殊词\n",
    "    vocabs = {'UNK'}\n",
    "    #vocabs.add('PAD')\n",
    "    \n",
    "    data=[]\n",
    "    cate=[]\n",
    "    temp_data = []\n",
    "    temp_cate = []\n",
    "    for line in open(train_path,encoding='UTF-8'):\n",
    "        if line == '\\n' or line.split()[0] == \"。\":\n",
    "            if len(temp_data)!= 0:\n",
    "                data.append(temp_data)\n",
    "                cate.append(temp_cate)\n",
    "                temp_data = []\n",
    "                temp_cate = []\n",
    "        else:\n",
    "            line_ls = line.split()\n",
    "            char = line_ls[0].strip()\n",
    "            label = line_ls[1].strip()\n",
    "            temp_data.append(char)\n",
    "            temp_cate.append(label)\n",
    "            \n",
    "    for item in range(0,len(data)):\n",
    "        datas.append([data[item],cate[item]])\n",
    "        for i in data[item]:#数据中的词加入词库\n",
    "            vocabs.add(i)\n",
    "    for i in initial_vocab:#w2v中的词加入词库\n",
    "        vocabs.add(i)\n",
    "    \n",
    "    embeddings_matrix = np.zeros((len(vocabs), 200))# 初始化矩阵\n",
    "    \n",
    "    #索引和BIO标签对应\n",
    "    label=set()\n",
    "    for item in cate:\n",
    "        for i in item:\n",
    "            label.add(i)\n",
    "    idx2label = {idx: label for idx, label in enumerate(list(label))}\n",
    "    label2idx = {label: idx for idx,label  in idx2label.items()}\n",
    "    \n",
    "    #字符和索引编号对应\n",
    "    idx2vocab = {idx: char for idx, char in enumerate(list(vocabs))}\n",
    "    vocab2idx = {char: idx for idx, char in idx2vocab.items()}\n",
    "    \n",
    "    # 权重矩阵\n",
    "    for i in idx2vocab:\n",
    "        if idx2vocab[i] in initial_vocab:\n",
    "            embeddings_matrix[i] = vocab_emb[idx2vocab[i]]\n",
    "        \n",
    "    #self.write_file(list(vocabs), self.vocab_path)\n",
    "    return datas,label,idx2vocab,vocab2idx,idx2label,label2idx,embeddings_matrix"
   ]
  },
  {
   "cell_type": "code",
   "execution_count": 6,
   "metadata": {
    "scrolled": false
   },
   "outputs": [],
   "source": [
    "datas,label,idx2vocab,vocab2idx,idx2label,label2idx,embeddings_matrix = build_data('../../data/LAB1/corpus-buduan.txt',initial_vocab)"
   ]
  },
  {
   "cell_type": "code",
   "execution_count": 7,
   "metadata": {},
   "outputs": [],
   "source": [
    "#读取所有数据生成字典\n",
    "def load_data(train_path):\n",
    "    datas = []#【【句子】，【对应标签】】\n",
    "\n",
    "    \n",
    "    data=[]\n",
    "    cate=[]\n",
    "    temp_data = []\n",
    "    temp_cate = []\n",
    "    for line in open(train_path,encoding='UTF-8'):\n",
    "        if line == '\\n' or line.split()[0] == \"。\":\n",
    "            if len(temp_data)!= 0:\n",
    "                data.append(temp_data)\n",
    "                cate.append(temp_cate)\n",
    "                temp_data = []\n",
    "                temp_cate = []\n",
    "        else:\n",
    "            line_ls = line.split()\n",
    "            char = line_ls[0].strip()\n",
    "            label = line_ls[1].strip()\n",
    "            temp_data.append(char)\n",
    "            temp_cate.append(label)\n",
    "            \n",
    "    for item in range(0,len(data)):\n",
    "        datas.append([data[item],cate[item]])\n",
    "    \n",
    "    return datas"
   ]
  },
  {
   "cell_type": "code",
   "execution_count": 8,
   "metadata": {},
   "outputs": [],
   "source": [
    "train = load_data('../../data/LAB1/train-buduan.txt')\n",
    "test = load_data('../../data/LAB1/test-buduan.txt')\n",
    "dev = load_data('../../data/LAB1/dev-buduan.txt')"
   ]
  },
  {
   "cell_type": "code",
   "execution_count": 9,
   "metadata": {},
   "outputs": [],
   "source": [
    "train.extend(dev)"
   ]
  },
  {
   "cell_type": "code",
   "execution_count": 10,
   "metadata": {},
   "outputs": [],
   "source": [
    "#按照索引建立训练数据\n",
    "def read_corpus(datas,vocab2idx,label2idx):\n",
    "    corpus, labels = [],[]\n",
    "    for item in datas:\n",
    "        sent_=item[0]\n",
    "        tag_=item[1]\n",
    "        sent_ids = [vocab2idx[char] if char in vocab2idx else vocab2idx['<UNK>'] for char in sent_]\n",
    "        tag_ids = [label2idx[label] if label in label2idx else 0 for label in tag_]\n",
    "        corpus.append(sent_ids)\n",
    "        labels.append(tag_ids)\n",
    "    return corpus,labels"
   ]
  },
  {
   "cell_type": "code",
   "execution_count": 11,
   "metadata": {},
   "outputs": [],
   "source": [
    "X_train,y_train = read_corpus(train,vocab2idx,label2idx)\n",
    "X_test,y_test = read_corpus(test,vocab2idx,label2idx)"
   ]
  },
  {
   "cell_type": "code",
   "execution_count": 12,
   "metadata": {},
   "outputs": [
    {
     "data": {
      "text/plain": [
       "555"
      ]
     },
     "execution_count": 12,
     "metadata": {},
     "output_type": "execute_result"
    }
   ],
   "source": [
    "len(X_train)"
   ]
  },
  {
   "cell_type": "code",
   "execution_count": 13,
   "metadata": {},
   "outputs": [
    {
     "data": {
      "text/plain": [
       "144"
      ]
     },
     "execution_count": 13,
     "metadata": {},
     "output_type": "execute_result"
    }
   ],
   "source": [
    "len(X_test)"
   ]
  },
  {
   "cell_type": "markdown",
   "metadata": {},
   "source": [
    "# 模型"
   ]
  },
  {
   "cell_type": "code",
   "execution_count": 14,
   "metadata": {},
   "outputs": [],
   "source": [
    "length = [len(i) for i in X_train]"
   ]
  },
  {
   "cell_type": "code",
   "execution_count": 15,
   "metadata": {},
   "outputs": [
    {
     "data": {
      "text/plain": [
       "(array([128., 187., 120.,  68.,  26.,  11.,   3.,   2.,   7.,   3.]),\n",
       " array([  1.,  11.,  21.,  31.,  41.,  51.,  61.,  71.,  81.,  91., 101.]),\n",
       " <BarContainer object of 10 artists>)"
      ]
     },
     "execution_count": 15,
     "metadata": {},
     "output_type": "execute_result"
    },
    {
     "data": {
      "image/png": "[encoded data removed]",
      "text/plain": [
       "<Figure size 432x288 with 1 Axes>"
      ]
     },
     "metadata": {
      "needs_background": "light"
     },
     "output_type": "display_data"
    }
   ],
   "source": [
    "import matplotlib.pyplot as plt\n",
    "\n",
    "plt.hist(length)"
   ]
  },
  {
   "cell_type": "code",
   "execution_count": 16,
   "metadata": {},
   "outputs": [],
   "source": [
    "max_len = 100"
   ]
  },
  {
   "cell_type": "code",
   "execution_count": 17,
   "metadata": {},
   "outputs": [],
   "source": [
    "class CRF(layers.Layer):\n",
    "    def __init__(self, label_size):\n",
    "        super(CRF, self).__init__()\n",
    "        #随机生成0，1范围内shape × shape的矩阵\n",
    "        self.trans_params = tf.Variable(\n",
    "            tf.random.uniform(shape=(label_size, label_size)), name=\"transition\")\n",
    "    #实现 Graph Execution\n",
    "    @tf.function\n",
    "    def call(self, inputs, labels, seq_lens):#使用crf来计算损失\n",
    "        #inputs: 一个形状为[batch_size, max_seq_len, num_tags] 的tensor,一般使用BILSTM处理之后输出转换为他要求的形状作为CRF层的输入\n",
    "        #labels：形状为[batch_size, max_seq_len]的矩阵，真实标签\n",
    "        #seq_lens：一个形状为 [batch_size] 的向量,表示每个序列的长度\n",
    "        #transition_params：转移矩阵\n",
    "        log_likelihood, self.trans_params = tfa.text.crf_log_likelihood(\n",
    "                                                inputs, labels, seq_lens,\n",
    "                                                transition_params=self.trans_params)\n",
    "        #损失\n",
    "        loss = tf.reduce_sum(-log_likelihood)\n",
    "        return loss"
   ]
  },
  {
   "cell_type": "code",
   "execution_count": 18,
   "metadata": {},
   "outputs": [
    {
     "name": "stdout",
     "output_type": "stream",
     "text": [
      "Model: \"model\"\n",
      "__________________________________________________________________________________________________\n",
      "Layer (type)                    Output Shape         Param #     Connected to                     \n",
      "==================================================================================================\n",
      "input_ids (InputLayer)          [(None, 100)]        0                                            \n",
      "__________________________________________________________________________________________________\n",
      "embedding (Embedding)           (None, 100, 200)     12807600    input_ids[0][0]                  \n",
      "__________________________________________________________________________________________________\n",
      "bidirectional (Bidirectional)   (None, 100, 400)     641600      embedding[0][0]                  \n",
      "__________________________________________________________________________________________________\n",
      "dense (Dense)                   (None, 100, 16)      6416        bidirectional[0][0]              \n",
      "__________________________________________________________________________________________________\n",
      "target_ids (InputLayer)         [(None, 100)]        0                                            \n",
      "__________________________________________________________________________________________________\n",
      "input_lens (InputLayer)         [(None,)]            0                                            \n",
      "__________________________________________________________________________________________________\n",
      "crf (CRF)                       ()                   256         dense[0][0]                      \n",
      "                                                                 target_ids[0][0]                 \n",
      "                                                                 input_lens[0][0]                 \n",
      "==================================================================================================\n",
      "Total params: 13,455,872\n",
      "Trainable params: 13,455,872\n",
      "Non-trainable params: 0\n",
      "__________________________________________________________________________________________________\n",
      "None\n"
     ]
    }
   ],
   "source": [
    "K.clear_session()\n",
    "\n",
    "EPOCHS = 16\n",
    "BATCH_SIZE = 64\n",
    "EMBED_DIM = 200#词向量的维度\n",
    "HIDDEN_SIZE = 200#隐层状态的维数\n",
    "MAX_LEN = 100\n",
    "VOCAB_SIZE = len(vocab2idx)\n",
    "CLASS_NUMS = len(label2idx)\n",
    "\n",
    "inputs = layers.Input(shape=(MAX_LEN,), name='input_ids', dtype='int32')\n",
    "targets = layers.Input(shape=(MAX_LEN,), name='target_ids', dtype='int32')\n",
    "seq_lens = layers.Input(shape=(), name='input_lens', dtype='int32')\n",
    "\n",
    "#嵌入层 词汇表的大小；词向量的维度\n",
    "x = layers.Embedding(input_dim=VOCAB_SIZE, output_dim=EMBED_DIM,weights = [embeddings_matrix])(inputs)\n",
    "x = layers.Bidirectional(layers.LSTM(HIDDEN_SIZE, return_sequences=True))(x)\n",
    "logits = layers.Dense(CLASS_NUMS)(x)#全连接层 CLASS_NUMS：输出的单元个数，output_shape = (batch_size ,units),输入的形状input_shape =(batch_size,input_dim)\n",
    "loss = CRF(label_size=CLASS_NUMS)(logits, targets, seq_lens)\n",
    "\n",
    "model = models.Model(inputs=[inputs, targets, seq_lens], outputs=loss)\n",
    "\n",
    "print(model.summary())"
   ]
  },
  {
   "cell_type": "code",
   "execution_count": 19,
   "metadata": {},
   "outputs": [
    {
     "name": "stdout",
     "output_type": "stream",
     "text": [
      "('Failed to import pydot. You must `pip install pydot` and install graphviz (https://graphviz.gitlab.io/download/), ', 'for `pydotprint` to work.')\n"
     ]
    }
   ],
   "source": [
    "from keras.utils import plot_model\n",
    "plot_model(model, to_file='model.png')"
   ]
  },
  {
   "cell_type": "code",
   "execution_count": 20,
   "metadata": {},
   "outputs": [],
   "source": [
    "class CustomLoss(keras.losses.Loss):\n",
    "    def call(self, y_true, y_pred):\n",
    "        loss, pred = y_pred\n",
    "        return loss\n",
    "\n",
    "# 自定义Loss\n",
    "#model.compile(loss=CustomLoss(), optimizer='adam')\n",
    "# 或者使用lambda表达式\n",
    "#配置训练方法时，告知训练时用的优化器、损失函数和准确率评测标准\n",
    "model.compile(loss = lambda y_true, y_pred: y_pred, optimizer='adam')"
   ]
  },
  {
   "cell_type": "code",
   "execution_count": 21,
   "metadata": {},
   "outputs": [
    {
     "name": "stdout",
     "output_type": "stream",
     "text": [
      "(555, 100) (555, 100)\n"
     ]
    }
   ],
   "source": [
    "#加载训练集 数据填充\n",
    "train_datas = sequence.pad_sequences(X_train, maxlen=MAX_LEN)\n",
    "train_labels = sequence.pad_sequences(y_train, maxlen=MAX_LEN)\n",
    "train_seq_lens = np.array([MAX_LEN] * len(train_labels))\n",
    "labels_ = np.ones(len(train_labels))\n",
    "# train_labels = keras.utils.to_categorical(train_labels, CLASS_NUMS)\n",
    "print(np.shape(train_datas), np.shape(train_labels))"
   ]
  },
  {
   "cell_type": "code",
   "execution_count": 22,
   "metadata": {
    "scrolled": false
   },
   "outputs": [
    {
     "name": "stdout",
     "output_type": "stream",
     "text": [
      "Epoch 1/16\n",
      "8/8 [==============================] - 19s 2s/step - loss: 11366.3613 - val_loss: 2716.3120\n",
      "Epoch 2/16\n",
      "8/8 [==============================] - 7s 930ms/step - loss: 3416.3074 - val_loss: 2021.2549\n",
      "Epoch 3/16\n",
      "8/8 [==============================] - 7s 912ms/step - loss: 2588.6593 - val_loss: 1739.4138\n",
      "Epoch 4/16\n",
      "8/8 [==============================] - 7s 848ms/step - loss: 2237.1494 - val_loss: 1536.8348\n",
      "Epoch 5/16\n",
      "8/8 [==============================] - 7s 808ms/step - loss: 2029.3669 - val_loss: 1412.4010\n",
      "Epoch 6/16\n",
      "8/8 [==============================] - 7s 920ms/step - loss: 1765.6615 - val_loss: 1307.8461\n",
      "Epoch 7/16\n",
      "8/8 [==============================] - 9s 1s/step - loss: 1564.4168 - val_loss: 1219.3301\n",
      "Epoch 8/16\n",
      "8/8 [==============================] - 7s 893ms/step - loss: 1412.5656 - val_loss: 1134.4653\n",
      "Epoch 9/16\n",
      "8/8 [==============================] - 8s 1s/step - loss: 1322.4046 - val_loss: 1073.1025\n",
      "Epoch 10/16\n",
      "8/8 [==============================] - 9s 1s/step - loss: 1250.0865 - val_loss: 1004.7911\n",
      "Epoch 11/16\n",
      "8/8 [==============================] - 9s 1s/step - loss: 1115.7908 - val_loss: 952.9447\n",
      "Epoch 12/16\n",
      "8/8 [==============================] - 7s 923ms/step - loss: 1034.9776 - val_loss: 886.5591\n",
      "Epoch 13/16\n",
      "8/8 [==============================] - 7s 901ms/step - loss: 942.2270 - val_loss: 846.8165\n",
      "Epoch 14/16\n",
      "8/8 [==============================] - 7s 905ms/step - loss: 883.5769 - val_loss: 794.8213\n",
      "Epoch 15/16\n",
      "8/8 [==============================] - 6s 792ms/step - loss: 759.3366 - val_loss: 759.8312\n",
      "Epoch 16/16\n",
      "8/8 [==============================] - 6s 803ms/step - loss: 732.1243 - val_loss: 712.3415\n"
     ]
    }
   ],
   "source": [
    "#可以设定fit函数内validation_split参数为切分验证集的比例\n",
    "history = model.fit(x=[train_datas, train_labels, train_seq_lens], y=labels_, \n",
    "        validation_split = 0.1, batch_size=BATCH_SIZE, epochs=EPOCHS)"
   ]
  },
  {
   "cell_type": "code",
   "execution_count": 23,
   "metadata": {},
   "outputs": [
    {
     "data": {
      "image/png": "[encoded data removed]",
      "text/plain": [
       "<Figure size 432x288 with 1 Axes>"
      ]
     },
     "metadata": {
      "needs_background": "light"
     },
     "output_type": "display_data"
    }
   ],
   "source": [
    "fig, ax = plt.subplots()#创建一个figure \n",
    "ax.plot(history.history['loss'], '-r',label='训练集 loss')\n",
    "ax.plot(history.history['val_loss'], '-b',label='验证集 loss')\n",
    "\n",
    "####打开网格\n",
    "ax.grid(True)\n",
    "\n",
    "####定义x, y轴的名称\n",
    "ax.set_xlabel('epoch',fontsize=15)\n",
    "ax.set_ylabel('loss',fontsize=15)\n",
    "\n",
    "####定义标题\n",
    "fig.suptitle('实验一：BiLSTM-CRF模型损失函数变化曲线',fontsize=15)\n",
    "\n",
    "####展示图例 legend loc=是用来定义图例的位置的，还有很多选择，大家可以自己尝试\n",
    "ax.legend(loc = 'upper right')\n",
    "\n",
    "plt.savefig(\"实验一：BiLSTM-CRF模型损失函数变化曲线.png\")"
   ]
  },
  {
   "cell_type": "code",
   "execution_count": 24,
   "metadata": {
    "scrolled": true
   },
   "outputs": [
    {
     "data": {
      "text/plain": [
       "[7607.94091796875,\n",
       " 3222.760009765625,\n",
       " 2563.130126953125,\n",
       " 2181.842041015625,\n",
       " 1903.728515625,\n",
       " 1694.1297607421875,\n",
       " 1536.3580322265625,\n",
       " 1407.2509765625,\n",
       " 1296.3050537109375,\n",
       " 1201.2607421875,\n",
       " 1101.86083984375,\n",
       " 1009.4688720703125,\n",
       " 925.9458618164062,\n",
       " 846.2838134765625,\n",
       " 767.3449096679688,\n",
       " 699.0057983398438]"
      ]
     },
     "execution_count": 24,
     "metadata": {},
     "output_type": "execute_result"
    }
   ],
   "source": [
    "history.history['loss']"
   ]
  },
  {
   "cell_type": "code",
   "execution_count": 25,
   "metadata": {},
   "outputs": [
    {
     "data": {
      "text/plain": [
       "[2716.31201171875,\n",
       " 2021.2548828125,\n",
       " 1739.413818359375,\n",
       " 1536.8348388671875,\n",
       " 1412.4010009765625,\n",
       " 1307.8460693359375,\n",
       " 1219.330078125,\n",
       " 1134.46533203125,\n",
       " 1073.1025390625,\n",
       " 1004.7910766601562,\n",
       " 952.9447021484375,\n",
       " 886.5591430664062,\n",
       " 846.8165283203125,\n",
       " 794.8212890625,\n",
       " 759.8312377929688,\n",
       " 712.3414916992188]"
      ]
     },
     "execution_count": 25,
     "metadata": {},
     "output_type": "execute_result"
    }
   ],
   "source": [
    "history.history['val_loss']"
   ]
  },
  {
   "cell_type": "code",
   "execution_count": 26,
   "metadata": {},
   "outputs": [
    {
     "name": "stderr",
     "output_type": "stream",
     "text": [
      "WARNING:absl:Found untraced functions such as lstm_cell_1_layer_call_and_return_conditional_losses, lstm_cell_1_layer_call_fn, lstm_cell_2_layer_call_and_return_conditional_losses, lstm_cell_2_layer_call_fn, lstm_cell_1_layer_call_fn while saving (showing 5 of 10). These functions will not be directly callable after loading.\n",
      "WARNING:absl:Found untraced functions such as lstm_cell_1_layer_call_and_return_conditional_losses, lstm_cell_1_layer_call_fn, lstm_cell_2_layer_call_and_return_conditional_losses, lstm_cell_2_layer_call_fn, lstm_cell_1_layer_call_fn while saving (showing 5 of 10). These functions will not be directly callable after loading.\n"
     ]
    },
    {
     "name": "stdout",
     "output_type": "stream",
     "text": [
      "INFO:tensorflow:Assets written to: output/BiLSTM_CRF_NER_MODEL\\assets\n"
     ]
    },
    {
     "name": "stderr",
     "output_type": "stream",
     "text": [
      "INFO:tensorflow:Assets written to: output/BiLSTM_CRF_NER_MODEL\\assets\n"
     ]
    }
   ],
   "source": [
    "# 保存\n",
    "model.save(\"output/BiLSTM_CRF_NER_MODEL\")"
   ]
  },
  {
   "cell_type": "code",
   "execution_count": 27,
   "metadata": {},
   "outputs": [],
   "source": [
    "model = models.load_model(\"output/BiLSTM_CRF_NER_MODEL\", compile=False)"
   ]
  },
  {
   "cell_type": "code",
   "execution_count": 28,
   "metadata": {},
   "outputs": [],
   "source": [
    "import json\n",
    "with open('output/idx2vocab.json',\"w\",encoding=\"utf-8\") as f:\n",
    "    json.dump(idx2vocab,f)\n",
    "    \n",
    "with open('output/vocab2idx.json',\"w\",encoding=\"utf-8\") as f:\n",
    "    json.dump(vocab2idx,f)\n",
    "\n",
    "with open('output/idx2label.json',\"w\",encoding=\"utf-8\") as f:\n",
    "    json.dump(idx2label,f)\n",
    "\n",
    "with open('output/label2idx.json',\"w\",encoding=\"utf-8\") as f:\n",
    "    json.dump(label2idx,f)"
   ]
  },
  {
   "cell_type": "code",
   "execution_count": 29,
   "metadata": {
    "scrolled": true
   },
   "outputs": [],
   "source": [
    "# model = models.load_model(\"output/bilstm_crf_ner\", compile=False)\n",
    "# 如果需要继续训练，需要下面的重新compile\n",
    "# model.compile(loss=lambda y_true, y_pred: y_pred, optimizer='adam')"
   ]
  },
  {
   "cell_type": "code",
   "execution_count": 30,
   "metadata": {},
   "outputs": [],
   "source": [
    "#提取转移矩阵参数\n",
    "trans_params = model.get_layer('crf').get_weights()[0]\n",
    "# 获得BiLSTM的输出logits\n",
    "sub_model = models.Model(inputs=model.get_layer('input_ids').input,\n",
    "                        outputs=model.get_layer('dense').output)\n",
    "\n",
    "def predict(model, inputs, input_lens):\n",
    "    logits = sub_model.predict(inputs)\n",
    "    # 获取CRF层的转移矩阵\n",
    "    # crf_decode：viterbi解码获得结果\n",
    "    pred_seq, viterbi_score = tfa.text.crf_decode(logits, trans_params, input_lens)\n",
    "    return pred_seq"
   ]
  },
  {
   "cell_type": "markdown",
   "metadata": {},
   "source": [
    "# 预测"
   ]
  },
  {
   "cell_type": "code",
   "execution_count": 31,
   "metadata": {},
   "outputs": [],
   "source": [
    "with open('output/idx2vocab.json',encoding=\"utf-8\") as file_obj:\n",
    "    idx2vocab=json.load(file_obj)\n",
    "    \n",
    "with open('output/vocab2idx.json',encoding=\"utf-8\") as file_obj:\n",
    "    vocab2idx=json.load(file_obj)\n",
    "    \n",
    "with open('output/idx2label.json',encoding=\"utf-8\") as file_obj:\n",
    "    idx2label=json.load(file_obj)\n",
    "    \n",
    "with open('output/label2idx.json',encoding=\"utf-8\") as file_obj:\n",
    "    label2idx=json.load(file_obj)"
   ]
  },
  {
   "cell_type": "code",
   "execution_count": 32,
   "metadata": {},
   "outputs": [],
   "source": [
    "temp_idx2vocab = {}\n",
    "for k,v in idx2vocab.items():\n",
    "    temp_idx2vocab[int(k)] = v\n",
    "idx2vocab = temp_idx2vocab.copy()\n",
    "\n",
    "temp_idx2label = {}\n",
    "for k,v in idx2label.items():\n",
    "    temp_idx2label[int(k)] = v\n",
    "idx2label = temp_idx2label.copy()\n"
   ]
  },
  {
   "cell_type": "code",
   "execution_count": 33,
   "metadata": {},
   "outputs": [],
   "source": [
    "def pre(X_test,idx2label,model,idx2vocab,vocab2idx):\n",
    "    result=[]\n",
    "    maxlen = MAX_LEN\n",
    "    for item in X_test:\n",
    "        sentence=''\n",
    "        for i in item:\n",
    "            sentence+=idx2vocab[i]\n",
    "        print(sentence)\n",
    "        sent_chars = list(sentence)\n",
    "        sent2id = [vocab2idx[word] if word in vocab2idx else vocab2idx['UNK'] for word in sent_chars]\n",
    "        sent2id_new = np.array([[0] * (maxlen-len(sent2id)) + sent2id[:maxlen]])\n",
    "        test_lens = np.array([MAX_LEN])\n",
    "        pred_seq = predict(model, sent2id_new, test_lens)\n",
    "        y_label = pred_seq.numpy().reshape(1, -1)[0]\n",
    "        y_ner = [idx2label[i] for i in y_label][-len(sent_chars):]\n",
    "        print(y_ner)"
   ]
  },
  {
   "cell_type": "code",
   "execution_count": 34,
   "metadata": {},
   "outputs": [],
   "source": [
    "#测试集效果检测\n",
    "test_text = []\n",
    "for item in X_test:\n",
    "    sen=''\n",
    "    for i in item:\n",
    "        sen+=idx2vocab[i]\n",
    "    test_text.append(sen)\n",
    "test_label=[]\n",
    "for item in y_test:\n",
    "    test_label.append([idx2label[i] for i in item])"
   ]
  },
  {
   "cell_type": "code",
   "execution_count": 35,
   "metadata": {},
   "outputs": [],
   "source": [
    "filename='test_text.json'\n",
    "with open(filename,'w',encoding='gbk') as file_obj:\n",
    "    json.dump(test_text,file_obj,ensure_ascii=False,indent = 4)\n",
    "    \n",
    "filename='test_label.json'\n",
    "with open(filename,'w',encoding='gbk') as file_obj:\n",
    "    json.dump(test_label,file_obj,ensure_ascii=False,indent = 4)"
   ]
  },
  {
   "cell_type": "code",
   "execution_count": 36,
   "metadata": {},
   "outputs": [],
   "source": [
    "def pre_data(sentence,vocab2idx,idx2label):\n",
    "    maxlen=MAX_LEN\n",
    "    sent_chars = list(sentence)\n",
    "    sent2id = [vocab2idx[word] if word in vocab2idx else vocab2idx['UNK'] for word in sent_chars]\n",
    "    sent2id_new = np.array([[0] * (maxlen-len(sent2id)) + sent2id[:maxlen]])\n",
    "    test_lens = np.array([MAX_LEN])\n",
    "\n",
    "    pred_seq = predict(model, sent2id_new, test_lens)\n",
    "    y_label = pred_seq.numpy().reshape(1, -1)[0]\n",
    "    y_ner = [idx2label[i] for i in y_label][-len(sent_chars):]\n",
    "    return y_ner"
   ]
  },
  {
   "cell_type": "code",
   "execution_count": 37,
   "metadata": {
    "scrolled": false
   },
   "outputs": [
    {
     "name": "stderr",
     "output_type": "stream",
     "text": [
      "E:\\download\\anaconda\\download\\lib\\site-packages\\tensorflow_addons\\text\\crf.py:543: UserWarning: CRF Decoding does not work with KerasTensors in TF2.4. The bug has since been fixed in tensorflow/tensorflow##45534\n",
      "  warnings.warn(\n"
     ]
    }
   ],
   "source": [
    "pre_result=[]\n",
    "count=0\n",
    "for sen in test_text:\n",
    "    #print(sen)\n",
    "    result=pre_data(sen,vocab2idx,idx2label)\n",
    "    #print(result)\n",
    "    pre_result.append(result)\n",
    "    count+=1\n",
    "    # print(count)"
   ]
  },
  {
   "cell_type": "code",
   "execution_count": 38,
   "metadata": {},
   "outputs": [],
   "source": [
    "filename='pre_result.json'\n",
    "with open(filename,'w',encoding='gbk') as file_obj:\n",
    "    json.dump(pre_result,file_obj,ensure_ascii=False,indent = 4)"
   ]
  },
  {
   "cell_type": "code",
   "execution_count": 39,
   "metadata": {
    "scrolled": false
   },
   "outputs": [],
   "source": [
    "pre_ = []\n",
    "for s in pre_result:\n",
    "    for c in s:\n",
    "        pre_.append(c)\n",
    "        \n",
    "test_ = []\n",
    "for s in y_test:\n",
    "    for c in s:\n",
    "        test_.append(idx2label[c])"
   ]
  },
  {
   "cell_type": "code",
   "execution_count": 40,
   "metadata": {
    "scrolled": false
   },
   "outputs": [
    {
     "data": {
      "text/plain": [
       "3025"
      ]
     },
     "execution_count": 40,
     "metadata": {},
     "output_type": "execute_result"
    }
   ],
   "source": [
    "len(pre_)"
   ]
  },
  {
   "cell_type": "code",
   "execution_count": 41,
   "metadata": {
    "scrolled": true
   },
   "outputs": [
    {
     "data": {
      "text/plain": [
       "3025"
      ]
     },
     "execution_count": 41,
     "metadata": {},
     "output_type": "execute_result"
    }
   ],
   "source": [
    "len(test_)"
   ]
  },
  {
   "cell_type": "code",
   "execution_count": 42,
   "metadata": {},
   "outputs": [
    {
     "data": {
      "text/plain": [
       "['B-DRU', 'E-DRU', 'O']"
      ]
     },
     "execution_count": 42,
     "metadata": {},
     "output_type": "execute_result"
    }
   ],
   "source": [
    "pre_[:3]"
   ]
  },
  {
   "cell_type": "code",
   "execution_count": 43,
   "metadata": {},
   "outputs": [
    {
     "data": {
      "text/plain": [
       "['B-DRU', 'E-DRU', 'O']"
      ]
     },
     "execution_count": 43,
     "metadata": {},
     "output_type": "execute_result"
    }
   ],
   "source": [
    "test_[:3]"
   ]
  },
  {
   "cell_type": "code",
   "execution_count": 53,
   "metadata": {},
   "outputs": [
    {
     "name": "stdout",
     "output_type": "stream",
     "text": [
      "              precision    recall  f1-score   support\n",
      "\n",
      "       B-DRU     0.7906    0.7906    0.7906       191\n",
      "      B-NAME     0.4722    0.6800    0.5574        25\n",
      "       B-QUA     0.8636    0.8941    0.8786        85\n",
      "       B-SYM     0.4608    0.6438    0.5371        73\n",
      "       B-USE     0.7059    0.7647    0.7341       204\n",
      "       E-DRU     0.7632    0.8580    0.8078       169\n",
      "      E-NAME     0.4167    0.9375    0.5769        16\n",
      "       E-QUA     0.9205    0.9419    0.9310        86\n",
      "       E-SYM     0.5800    0.7250    0.6444        80\n",
      "       E-USE     0.6920    0.8031    0.7434       193\n",
      "       I-DRU     0.2174    0.8333    0.3448         6\n",
      "      I-NAME     0.9020    0.6389    0.7480        72\n",
      "       I-QUA     0.3000    0.6667    0.4138         9\n",
      "       I-SYM     0.5272    0.6467    0.5808       150\n",
      "       I-USE     0.8185    0.7677    0.7923       693\n",
      "           O     0.9196    0.7760    0.8417       973\n",
      "\n",
      "    accuracy                         0.7742      3025\n",
      "   macro avg     0.6469    0.7730    0.6827      3025\n",
      "weighted avg     0.7995    0.7742    0.7816      3025\n",
      "\n"
     ]
    }
   ],
   "source": [
    "from sklearn.metrics import classification_report\n",
    "print(classification_report(pre_,test_,digits=4))"
   ]
  },
  {
   "cell_type": "markdown",
   "metadata": {},
   "source": [
    "图"
   ]
  },
  {
   "cell_type": "code",
   "execution_count": 54,
   "metadata": {},
   "outputs": [
    {
     "data": {
      "image/png": "[encoded data removed]",
      "text/plain": [
       "<Figure size 432x288 with 1 Axes>"
      ]
     },
     "metadata": {
      "needs_background": "light"
     },
     "output_type": "display_data"
    }
   ],
   "source": [
    "fig, ax = plt.subplots()#创建一个figure \n",
    "ax.plot(history.history['loss'], '-r',marker = \"o\", label='训练集 loss')\n",
    "ax.plot(history.history['val_loss'], '-b',marker = \"*\",label='验证集 loss')\n",
    "\n",
    "####打开网格\n",
    "ax.grid(True)\n",
    "\n",
    "####定义x, y轴的名称\n",
    "ax.set_xlabel('epoch',fontsize=15)\n",
    "ax.set_ylabel('loss',fontsize=15)\n",
    "\n",
    "####定义标题\n",
    "fig.suptitle('实验一：BiLSTM-CRF模型损失函数变化曲线',fontsize=15)\n",
    "\n",
    "####展示图例 legend loc=是用来定义图例的位置的，还有很多选择，大家可以自己尝试\n",
    "ax.legend(loc = 'upper right')\n",
    "\n",
    "plt.savefig(\"实验一：BiLSTM-CRF模型损失函数变化曲线.png\")"
   ]
  },
  {
   "cell_type": "code",
   "execution_count": null,
   "metadata": {},
   "outputs": [],
   "source": []
  }
 ],
 "metadata": {
  "kernelspec": {
   "display_name": "Python 3",
   "language": "python",
   "name": "python3"
  },
  "language_info": {
   "codemirror_mode": {
    "name": "ipython",
    "version": 3
   },
   "file_extension": ".py",
   "mimetype": "text/x-python",
   "name": "python",
   "nbconvert_exporter": "python",
   "pygments_lexer": "ipython3",
   "version": "3.8.5"
  }
 },
 "nbformat": 4,
 "nbformat_minor": 2
}
